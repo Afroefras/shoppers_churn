{
 "cells": [
  {
   "cell_type": "code",
   "execution_count": 1,
   "metadata": {},
   "outputs": [],
   "source": [
    "main_dict = {\n",
    "    'bank':[\n",
    "        'BBVA BANCOMER',\n",
    "        'BANORTE',\n",
    "        'SANTANDER',\n",
    "        'BANCO NACIONAL DE MEXICO',\n",
    "        'BANREGIO',\n",
    "        'BANAMEX',\n",
    "        'HSBC',\n",
    "        'BANCO AFIRME',\n",
    "        'BANCO AZTECA',\n",
    "        'BANCOPPEL',\n",
    "        'SCOTIABANK',\n",
    "        'BANCO REGIONAL DE MONTERREY',\n",
    "        'BANCO DEL BAJIO',\n",
    "    ]\n",
    "}"
   ]
  },
  {
   "cell_type": "code",
   "execution_count": 2,
   "metadata": {},
   "outputs": [
    {
     "name": "stdout",
     "output_type": "stream",
     "text": [
      "Date: \"0029-10-20\" was not converted successfully\n",
      "\n",
      "Score: 84.27%\n",
      "Training score: 83.48%\n"
     ]
    }
   ],
   "source": [
    "from shoppers.models import ShoppersChurn\n",
    "\n",
    "sc = ShoppersChurn(file_name='raw_data_MTY', main_dict=main_dict)\n",
    "sc.get_files()\n",
    "sc.clean_shopper_data()\n",
    "sc.vars_shopper()\n",
    "sc.vars_orders()\n",
    "sc.shoppers_train_model(max_iter=1000)"
   ]
  }
 ],
 "metadata": {
  "interpreter": {
   "hash": "b242a032645bafbbcb1166ddc12c6be26fce6a9e64135cb292f5e9ea8c9202a8"
  },
  "kernelspec": {
   "display_name": "Python 3.9.1 64-bit ('venv': venv)",
   "language": "python",
   "name": "python3"
  },
  "language_info": {
   "codemirror_mode": {
    "name": "ipython",
    "version": 3
   },
   "file_extension": ".py",
   "mimetype": "text/x-python",
   "name": "python",
   "nbconvert_exporter": "python",
   "pygments_lexer": "ipython3",
   "version": "3.9.1"
  },
  "orig_nbformat": 4
 },
 "nbformat": 4,
 "nbformat_minor": 2
}
