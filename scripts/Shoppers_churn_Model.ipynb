{
 "cells": [
  {
   "cell_type": "code",
   "execution_count": 1,
   "metadata": {},
   "outputs": [],
   "source": [
    "main_dict = {\n",
    "    'bank':[\n",
    "        'BBVA BANCOMER',\n",
    "        'BANORTE',\n",
    "        'SANTANDER',\n",
    "        'BANCO NACIONAL DE MEXICO',\n",
    "        'BANREGIO',\n",
    "        'BANAMEX',\n",
    "        'HSBC',\n",
    "        'BANCO AFIRME',\n",
    "        'BANCO AZTECA',\n",
    "        'BANCOPPEL',\n",
    "        'SCOTIABANK',\n",
    "        'BANCO REGIONAL DE MONTERREY',\n",
    "        'BANCO DEL BAJIO',\n",
    "    ]\n",
    "}"
   ]
  },
  {
   "cell_type": "code",
   "execution_count": 2,
   "metadata": {},
   "outputs": [
    {
     "name": "stdout",
     "output_type": "stream",
     "text": [
      "Date: \"0029-10-20\" was not converted successfully\n"
     ]
    }
   ],
   "source": [
    "from shoppers.models import ShoppersChurn\n",
    "\n",
    "sc = ShoppersChurn(file_name='raw_data_MTY_feb', main_dict=main_dict)\n",
    "sc.get_files()\n",
    "sc.clean_shopper_data()\n",
    "sc.vars_shopper()\n",
    "sc.vars_orders()"
   ]
  },
  {
   "cell_type": "code",
   "execution_count": 3,
   "metadata": {},
   "outputs": [
    {
     "name": "stdout",
     "output_type": "stream",
     "text": [
      "\n",
      "Score: 79.72%\n",
      "Training score: 84.49%\n",
      "\n",
      "These are the 20 most relevant variables:\n"
     ]
    },
    {
     "data": {
      "text/html": [
       "<div>\n",
       "<style scoped>\n",
       "    .dataframe tbody tr th:only-of-type {\n",
       "        vertical-align: middle;\n",
       "    }\n",
       "\n",
       "    .dataframe tbody tr th {\n",
       "        vertical-align: top;\n",
       "    }\n",
       "\n",
       "    .dataframe thead th {\n",
       "        text-align: right;\n",
       "    }\n",
       "</style>\n",
       "<table border=\"1\" class=\"dataframe\">\n",
       "  <thead>\n",
       "    <tr style=\"text-align: right;\">\n",
       "      <th></th>\n",
       "      <th>0</th>\n",
       "      <th>1</th>\n",
       "    </tr>\n",
       "  </thead>\n",
       "  <tbody>\n",
       "    <tr>\n",
       "      <th>0</th>\n",
       "      <td>seniority</td>\n",
       "      <td>1.716460</td>\n",
       "    </tr>\n",
       "    <tr>\n",
       "      <th>1</th>\n",
       "      <td>completed_deliveries</td>\n",
       "      <td>0.950889</td>\n",
       "    </tr>\n",
       "    <tr>\n",
       "      <th>2</th>\n",
       "      <td>n_orders</td>\n",
       "      <td>0.906619</td>\n",
       "    </tr>\n",
       "    <tr>\n",
       "      <th>3</th>\n",
       "      <td>qty_products_ordered_3.0 to 7.0</td>\n",
       "      <td>0.700609</td>\n",
       "    </tr>\n",
       "    <tr>\n",
       "      <th>4</th>\n",
       "      <td>picking_commission_vs_total_-0.0 to 0.19</td>\n",
       "      <td>0.536783</td>\n",
       "    </tr>\n",
       "    <tr>\n",
       "      <th>5</th>\n",
       "      <td>hours_elapsed_-0.0 to 0.77</td>\n",
       "      <td>0.487054</td>\n",
       "    </tr>\n",
       "    <tr>\n",
       "      <th>6</th>\n",
       "      <td>order_fulfillment_rate_-0.0 to 0.93</td>\n",
       "      <td>0.410341</td>\n",
       "    </tr>\n",
       "    <tr>\n",
       "      <th>7</th>\n",
       "      <td>tipping_commission_vs_total_0.1 to 0.3</td>\n",
       "      <td>0.313235</td>\n",
       "    </tr>\n",
       "    <tr>\n",
       "      <th>8</th>\n",
       "      <td>picking_commission_vs_total_0.56 to 1.0</td>\n",
       "      <td>0.296643</td>\n",
       "    </tr>\n",
       "    <tr>\n",
       "      <th>9</th>\n",
       "      <td>total_receipt_382.0 to 651.62</td>\n",
       "      <td>0.277829</td>\n",
       "    </tr>\n",
       "    <tr>\n",
       "      <th>82</th>\n",
       "      <td>qty_products_replaced_-0.0 to 1.0</td>\n",
       "      <td>-0.213391</td>\n",
       "    </tr>\n",
       "    <tr>\n",
       "      <th>83</th>\n",
       "      <td>qty_products_ordered_15.0 to 26.0</td>\n",
       "      <td>-0.230221</td>\n",
       "    </tr>\n",
       "    <tr>\n",
       "      <th>84</th>\n",
       "      <td>total_receipt_1654.61 to 32025.0</td>\n",
       "      <td>-0.236157</td>\n",
       "    </tr>\n",
       "    <tr>\n",
       "      <th>85</th>\n",
       "      <td>deliverytime_vs_pickingtime_0.78 to 1.25</td>\n",
       "      <td>-0.238605</td>\n",
       "    </tr>\n",
       "    <tr>\n",
       "      <th>86</th>\n",
       "      <td>total_commission_65.26 to 86.61</td>\n",
       "      <td>-0.251917</td>\n",
       "    </tr>\n",
       "    <tr>\n",
       "      <th>87</th>\n",
       "      <td>expected_minutes_71.0 to 94.0</td>\n",
       "      <td>-0.257990</td>\n",
       "    </tr>\n",
       "    <tr>\n",
       "      <th>88</th>\n",
       "      <td>actual_minutes_4.0 to 34.0</td>\n",
       "      <td>-0.264434</td>\n",
       "    </tr>\n",
       "    <tr>\n",
       "      <th>89</th>\n",
       "      <td>hours_elapsed_0.77 to 1.21</td>\n",
       "      <td>-0.295603</td>\n",
       "    </tr>\n",
       "    <tr>\n",
       "      <th>90</th>\n",
       "      <td>order_fulfillment_rate_0.93 to 1.0</td>\n",
       "      <td>-0.467491</td>\n",
       "    </tr>\n",
       "    <tr>\n",
       "      <th>91</th>\n",
       "      <td>completed_pickings</td>\n",
       "      <td>-0.545675</td>\n",
       "    </tr>\n",
       "  </tbody>\n",
       "</table>\n",
       "</div>"
      ],
      "text/plain": [
       "                                           0         1\n",
       "0                                  seniority  1.716460\n",
       "1                       completed_deliveries  0.950889\n",
       "2                                   n_orders  0.906619\n",
       "3            qty_products_ordered_3.0 to 7.0  0.700609\n",
       "4   picking_commission_vs_total_-0.0 to 0.19  0.536783\n",
       "5                 hours_elapsed_-0.0 to 0.77  0.487054\n",
       "6        order_fulfillment_rate_-0.0 to 0.93  0.410341\n",
       "7     tipping_commission_vs_total_0.1 to 0.3  0.313235\n",
       "8    picking_commission_vs_total_0.56 to 1.0  0.296643\n",
       "9              total_receipt_382.0 to 651.62  0.277829\n",
       "82         qty_products_replaced_-0.0 to 1.0 -0.213391\n",
       "83         qty_products_ordered_15.0 to 26.0 -0.230221\n",
       "84          total_receipt_1654.61 to 32025.0 -0.236157\n",
       "85  deliverytime_vs_pickingtime_0.78 to 1.25 -0.238605\n",
       "86           total_commission_65.26 to 86.61 -0.251917\n",
       "87             expected_minutes_71.0 to 94.0 -0.257990\n",
       "88                actual_minutes_4.0 to 34.0 -0.264434\n",
       "89                hours_elapsed_0.77 to 1.21 -0.295603\n",
       "90        order_fulfillment_rate_0.93 to 1.0 -0.467491\n",
       "91                        completed_pickings -0.545675"
      ]
     },
     "metadata": {},
     "output_type": "display_data"
    },
    {
     "name": "stdout",
     "output_type": "stream",
     "text": [
      "Accuracy de 83.26%\n"
     ]
    },
    {
     "data": {
      "image/png": "[encoded data removed]",
      "text/plain": [
       "<Figure size 144x144 with 2 Axes>"
      ]
     },
     "metadata": {
      "needs_background": "light"
     },
     "output_type": "display_data"
    }
   ],
   "source": [
    "sc.shoppers_train_model(max_iter=1000)"
   ]
  },
  {
   "cell_type": "code",
   "execution_count": 4,
   "metadata": {},
   "outputs": [
    {
     "data": {
      "text/html": [
       "<div>\n",
       "<style scoped>\n",
       "    .dataframe tbody tr th:only-of-type {\n",
       "        vertical-align: middle;\n",
       "    }\n",
       "\n",
       "    .dataframe tbody tr th {\n",
       "        vertical-align: top;\n",
       "    }\n",
       "\n",
       "    .dataframe thead th {\n",
       "        text-align: right;\n",
       "    }\n",
       "</style>\n",
       "<table border=\"1\" class=\"dataframe\">\n",
       "  <thead>\n",
       "    <tr style=\"text-align: right;\">\n",
       "      <th></th>\n",
       "      <th>0</th>\n",
       "      <th>1</th>\n",
       "    </tr>\n",
       "  </thead>\n",
       "  <tbody>\n",
       "    <tr>\n",
       "      <th>0</th>\n",
       "      <td>1058</td>\n",
       "      <td>205</td>\n",
       "    </tr>\n",
       "    <tr>\n",
       "      <th>1</th>\n",
       "      <td>466</td>\n",
       "      <td>2279</td>\n",
       "    </tr>\n",
       "  </tbody>\n",
       "</table>\n",
       "</div>"
      ],
      "text/plain": [
       "      0     1\n",
       "0  1058   205\n",
       "1   466  2279"
      ]
     },
     "execution_count": 4,
     "metadata": {},
     "output_type": "execute_result"
    }
   ],
   "source": [
    "sc.confussion_matrix"
   ]
  }
 ],
 "metadata": {
  "interpreter": {
   "hash": "b242a032645bafbbcb1166ddc12c6be26fce6a9e64135cb292f5e9ea8c9202a8"
  },
  "kernelspec": {
   "display_name": "Python 3.9.1 64-bit ('venv': venv)",
   "language": "python",
   "name": "python3"
  },
  "language_info": {
   "codemirror_mode": {
    "name": "ipython",
    "version": 3
   },
   "file_extension": ".py",
   "mimetype": "text/x-python",
   "name": "python",
   "nbconvert_exporter": "python",
   "pygments_lexer": "ipython3",
   "version": "3.9.1"
  },
  "orig_nbformat": 4
 },
 "nbformat": 4,
 "nbformat_minor": 2
}
