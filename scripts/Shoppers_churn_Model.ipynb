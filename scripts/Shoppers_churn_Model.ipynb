{
 "cells": [
  {
   "cell_type": "code",
   "execution_count": 1,
   "metadata": {},
   "outputs": [],
   "source": [
    "MAIN_DICT = {\n",
    "    'bank':[\n",
    "        'BBVA BANCOMER',\n",
    "        'BANORTE',\n",
    "        'SANTANDER',\n",
    "        'BANCO NACIONAL DE MEXICO',\n",
    "        'BANREGIO',\n",
    "        'BANAMEX',\n",
    "        'HSBC',\n",
    "        'BANCO AFIRME',\n",
    "        'BANCO AZTECA',\n",
    "        'BANCOPPEL',\n",
    "        'SCOTIABANK',\n",
    "        'BANCO REGIONAL DE MONTERREY',\n",
    "        'BANCO DEL BAJIO',\n",
    "    ]\n",
    "}"
   ]
  },
  {
   "cell_type": "code",
   "execution_count": 2,
   "metadata": {},
   "outputs": [
    {
     "name": "stdout",
     "output_type": "stream",
     "text": [
      "There should be a file called \"raw_data_MTY_feb\" at:\n",
      "/Users/efrain.flores/Desktop/hub/shoppers_churn/data\n",
      "\n",
      "Add it and try again!\n"
     ]
    }
   ],
   "source": [
    "from shoppers.models import ShoppersChurn\n",
    "\n",
    "sc = ShoppersChurn(file_name='raw_data_MTY_feb', main_dict=MAIN_DICT)"
   ]
  },
  {
   "cell_type": "code",
   "execution_count": null,
   "metadata": {},
   "outputs": [],
   "source": [
    "sc.get_files(id_col='shopper_id')\n",
    "sc.clean_shopper_data(marital_col='marital_status', insurance_col='insurance', bank_col='bank', transport_col='transport')\n",
    "sc.vars_shopper(officialid_col='official_id', insurance_col='insurance', last_date_col='last_date')\n",
    "sc.vars_orders()"
   ]
  },
  {
   "cell_type": "code",
   "execution_count": null,
   "metadata": {},
   "outputs": [],
   "source": [
    "sc.total.sample(4)"
   ]
  },
  {
   "cell_type": "code",
   "execution_count": null,
   "metadata": {},
   "outputs": [],
   "source": [
    "sc.shoppers_train_model(max_iter=1000)"
   ]
  },
  {
   "cell_type": "code",
   "execution_count": null,
   "metadata": {},
   "outputs": [],
   "source": [
    "sc.confussion_matrix"
   ]
  }
 ],
 "metadata": {
  "interpreter": {
   "hash": "f43c2735ecdb2bc2458c544078482476338ffc9621c044e1f86e98ea66b27dbb"
  },
  "kernelspec": {
   "display_name": "Python 3.9.13 ('venv': venv)",
   "language": "python",
   "name": "python3"
  },
  "language_info": {
   "codemirror_mode": {
    "name": "ipython",
    "version": 3
   },
   "file_extension": ".py",
   "mimetype": "text/x-python",
   "name": "python",
   "nbconvert_exporter": "python",
   "pygments_lexer": "ipython3",
   "version": "3.9.13"
  },
  "orig_nbformat": 4
 },
 "nbformat": 4,
 "nbformat_minor": 2
}
